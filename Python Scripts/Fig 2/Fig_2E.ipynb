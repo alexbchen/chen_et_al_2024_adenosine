{
 "cells": [
  {
   "cell_type": "code",
   "execution_count": 42,
   "metadata": {},
   "outputs": [],
   "source": [
    "### import packages\n",
    "import numpy as np\n",
    "import dask\n",
    "import dask.array as da\n",
    "from glob import glob\n",
    "from h5py import File\n",
    "import matplotlib.pyplot as plt\n",
    "import imageio\n",
    "from PIL import Image\n",
    "import os\n",
    "import shutil\n",
    "from glob import glob\n",
    "import sys\n",
    "import numpy as np \n",
    "%matplotlib inline\n",
    "\n",
    "import matplotlib.pyplot as plt\n",
    "%matplotlib inline\n",
    "\n",
    "import scipy.io\n",
    "from scipy.signal import find_peaks\n",
    "from pandas import read_csv"
   ]
  },
  {
   "cell_type": "code",
   "execution_count": 43,
   "metadata": {},
   "outputs": [],
   "source": [
    "def dff(data, window, percentile, downsample=1):\n",
    "    \"\"\"\n",
    "    Estimate delta-f / f_baseline with the option to downsample\n",
    "    \n",
    "    data : 1D numpy array\n",
    "        Data to be processed\n",
    "        \n",
    "    window : int\n",
    "        Window size for baseline estimation. If downsampling is used, window will shrink proportionally\n",
    "        \n",
    "    percentile : int\n",
    "        Percentile used as baseline\n",
    "    \n",
    "    downsample : int\n",
    "        Rate of downsampling used before estimating baseline. For no downsampling, use downsample=1.\n",
    "    \"\"\"\n",
    "    \n",
    "    from scipy.signal import decimate\n",
    "    from scipy.ndimage.filters import percentile_filter\n",
    "    from numpy import interp\n",
    "    \n",
    "    if downsample == 1:\n",
    "        baseline = percentile_filter(data, percentile=percentile, size=window)\n",
    "    else:\n",
    "        data_ds = decimate(data, downsample, ftype='iir', zero_phase=True)\n",
    "        # using decimate with the default filter shifts the output by ~1-2% relative to the input. \n",
    "        # correct for baseline shift by adding a small constant to data_ds\n",
    "        data_ds += data.min() - data_ds.min()\n",
    "        baseline_ds = percentile_filter(data_ds, percentile=percentile, size=window//downsample)\n",
    "        \n",
    "        baseline = interp(range(0, len(data)), range(0, len(data), downsample), baseline_ds)\n",
    "    \n",
    "    return (data - baseline) / baseline"
   ]
  },
  {
   "cell_type": "code",
   "execution_count": 44,
   "metadata": {},
   "outputs": [],
   "source": [
    "#define file paths\n",
    "struggle_path_ctrl = r'G:\\My Drive\\adenosine_paper\\adenosine_paper_data\\Fig_2E\\ctrl\\struggles.csv'\n",
    "fluo_path_ctrl = r'G:\\My Drive\\adenosine_paper\\adenosine_paper_data\\Fig_2E\\ctrl\\compiled_fluo.csv'\n",
    "\n",
    "struggle_path_prazosin = r'G:\\My Drive\\adenosine_paper\\adenosine_paper_data\\Fig_2E\\prazosin\\struggles.csv'\n",
    "fluo_path_prazosin = r'G:\\My Drive\\adenosine_paper\\adenosine_paper_data\\Fig_2E\\prazosin\\compiled_fluo.csv'\n",
    "\n",
    "struggle_path_pmca = r'G:\\My Drive\\adenosine_paper\\adenosine_paper_data\\Fig_2E\\pmca\\struggles.csv'\n",
    "fluo_path_pmca = r'G:\\My Drive\\adenosine_paper\\adenosine_paper_data\\Fig_2E\\pmca\\compiled_fluo.csv'\n"
   ]
  },
  {
   "cell_type": "code",
   "execution_count": 77,
   "metadata": {},
   "outputs": [],
   "source": [
    "#load the fluorescence data\n",
    "fluo_ctrl = np.array(read_csv(fluo_path_ctrl)).T\n",
    "fluo_prazosin = np.array(read_csv(fluo_path_prazosin)).T\n",
    "fluo_pmca = np.array(read_csv(fluo_path_pmca)).T\n"
   ]
  },
  {
   "cell_type": "code",
   "execution_count": 78,
   "metadata": {},
   "outputs": [
    {
     "name": "stderr",
     "output_type": "stream",
     "text": [
      "C:\\Users\\kodan\\AppData\\Local\\Temp\\ipykernel_13496\\273916722.py:19: DeprecationWarning: Please use `percentile_filter` from the `scipy.ndimage` namespace, the `scipy.ndimage.filters` namespace is deprecated.\n",
      "  from scipy.ndimage.filters import percentile_filter\n"
     ]
    }
   ],
   "source": [
    "#split the fluorescence data into time and value, and compute dff\n",
    "atp_ctrl = np.zeros([int(np.shape(fluo_ctrl)[0]/2),int(np.shape(fluo_ctrl)[1])])\n",
    "time_ctrl = np.zeros([int(np.shape(fluo_ctrl)[0]/2),int(np.shape(fluo_ctrl)[1])])\n",
    "atp_prazosin = np.zeros([int(np.shape(fluo_prazosin)[0]/2),int(np.shape(fluo_prazosin)[1])])\n",
    "time_prazosin = np.zeros([int(np.shape(fluo_prazosin)[0]/2),int(np.shape(fluo_prazosin)[1])])\n",
    "atp_pmca = np.zeros([int(np.shape(fluo_pmca)[0]/2),int(np.shape(fluo_pmca)[1])])\n",
    "time_pmca = np.zeros([int(np.shape(fluo_pmca)[0]/2),int(np.shape(fluo_pmca)[1])])\n",
    "\n",
    "for i in range(np.shape(time_ctrl)[0]):\n",
    "    time_ctrl[i] = fluo_ctrl[2*i]\n",
    "    atp_ctrl[i] = dff(fluo_ctrl[2*i+1], 500, 10)\n",
    "    \n",
    "for i in range(np.shape(time_prazosin)[0]):\n",
    "    time_prazosin[i] = fluo_prazosin[2*i]\n",
    "    atp_prazosin[i] = dff(fluo_prazosin[2*i+1],500,10)\n",
    "    \n",
    "for i in range(np.shape(time_pmca)[0]):\n",
    "    time_pmca[i] = fluo_pmca[2*i]\n",
    "    atp_pmca[i] = dff(fluo_pmca[2*i+1],500,10)"
   ]
  },
  {
   "cell_type": "code",
   "execution_count": 79,
   "metadata": {},
   "outputs": [],
   "source": [
    "# load and format struggle data\n",
    "struggles_ctrl = np.array(read_csv(struggle_path_ctrl)).T\n",
    "struggleList_ctrl = []    \n",
    "for i in range(len(struggles_ctrl)):\n",
    "    struggleFish = []\n",
    "    for j in range(len(struggles_ctrl[i])):\n",
    "        if not np.isnan(struggles_ctrl[i][j]):\n",
    "            struggleFish.append(int(struggles_ctrl[i][j]))\n",
    "    struggleList_ctrl.append(struggleFish)\n",
    "\n",
    "struggles_prazosin = np.array(read_csv(struggle_path_prazosin)).T\n",
    "struggleList_prazosin = []    \n",
    "for i in range(len(struggles_prazosin)):\n",
    "    struggleFish = []\n",
    "    for j in range(len(struggles_prazosin[i])):\n",
    "        if not np.isnan(struggles_prazosin[i][j]):\n",
    "            struggleFish.append(int(struggles_prazosin[i][j]))\n",
    "    struggleList_prazosin.append(struggleFish)\n",
    "\n",
    "struggles_pmca = np.array(read_csv(struggle_path_pmca)).T\n",
    "struggleList_pmca = []    \n",
    "for i in range(len(struggles_pmca)):\n",
    "    struggleFish = []\n",
    "    for j in range(len(struggles_pmca[i])):\n",
    "        if not np.isnan(struggles_pmca[i][j]):\n",
    "            struggleFish.append(int(struggles_pmca[i][j]))\n",
    "    struggleList_pmca.append(struggleFish)"
   ]
  },
  {
   "cell_type": "code",
   "execution_count": 83,
   "metadata": {},
   "outputs": [],
   "source": [
    "#compute struggle triggered averages \n",
    "preTrigger = 11\n",
    "postTrigger = 64\n",
    "totalWindow = preTrigger + postTrigger\n",
    "\n",
    "struggle_triggered_ctrl = np.zeros([len(struggleList_ctrl),totalWindow])\n",
    "for i in range(len(struggleList_ctrl)):\n",
    "    numStruggles = len(struggleList_ctrl[i])\n",
    "    struggleTriggered = np.zeros([len(struggleList_ctrl[i]),totalWindow])\n",
    "    for j in range(len(struggleTriggered)):\n",
    "        struggleInd = struggleList_ctrl[i][j]\n",
    "        fStart = struggleInd - preTrigger\n",
    "        fEnd = struggleInd + postTrigger\n",
    "        triggered = atp_ctrl[i][fStart:fEnd]\n",
    "        triggered = (triggered - np.mean(triggered[0:preTrigger]))\n",
    "        struggleTriggered[j] = triggered\n",
    "    struggledTriggered = np.array(struggleTriggered)\n",
    "    struggle_triggered_ctrl[i] = np.mean(struggleTriggered,axis=0)\n",
    "    \n",
    "struggle_triggered_prazosin = np.zeros([len(struggleList_prazosin),totalWindow])\n",
    "for i in range(len(struggleList_prazosin)):\n",
    "    numStruggles = len(struggleList_prazosin[i])\n",
    "    struggleTriggered = np.zeros([len(struggleList_prazosin[i]),totalWindow])\n",
    "    for j in range(len(struggleTriggered)):\n",
    "        struggleInd = struggleList_prazosin[i][j]\n",
    "        fStart = struggleInd - preTrigger\n",
    "        fEnd = struggleInd + postTrigger\n",
    "        if (fStart > 0 and fEnd < (1000 - postTrigger)):\n",
    "            triggered = atp_prazosin[i][fStart:fEnd]\n",
    "            triggered = (triggered - np.mean(triggered[0:preTrigger]))\n",
    "            struggleTriggered[j] = triggered\n",
    "    struggledTriggered = np.array(struggleTriggered)\n",
    "    struggle_triggered_prazosin[i] = np.mean(struggleTriggered,axis=0)\n",
    "\n",
    "struggle_triggered_pmca = np.zeros([len(struggleList_pmca),totalWindow])\n",
    "for i in range(len(struggleList_pmca)):\n",
    "    numStruggles = len(struggleList_pmca[i])\n",
    "    struggleTriggered = np.zeros([len(struggleList_pmca[i]),totalWindow])\n",
    "    for j in range(len(struggleTriggered)):\n",
    "        struggleInd = struggleList_pmca[i][j]\n",
    "        fStart = struggleInd - preTrigger\n",
    "        fEnd = struggleInd + postTrigger\n",
    "        if (fStart > 0 and fEnd < (1000 - postTrigger)):\n",
    "            triggered = atp_pmca[i][fStart:fEnd]\n",
    "            triggered = (triggered - np.mean(triggered[0:preTrigger]))\n",
    "            struggleTriggered[j] = triggered\n",
    "    struggledTriggered = np.array(struggleTriggered)\n",
    "    struggle_triggered_pmca[i] = np.mean(struggleTriggered,axis=0)"
   ]
  },
  {
   "cell_type": "code",
   "execution_count": 92,
   "metadata": {},
   "outputs": [],
   "source": [
    "#compute mean and se across fish\n",
    "mean_ctrl = np.nanmean(struggle_triggered_ctrl,axis=0)\n",
    "se_ctrl = np.std(struggle_triggered_ctrl,axis=0)/len(struggle_triggered_ctrl)\n",
    "\n",
    "mean_prazosin = np.nanmean(struggle_triggered_prazosin,axis=0)\n",
    "se_prazosin = np.nanstd(struggle_triggered_prazosin,axis=0)/len(struggle_triggered_prazosin)\n",
    "\n",
    "mean_pmca = np.nanmean(struggle_triggered_pmca,axis=0)\n",
    "se_pmca = np.nanstd(struggle_triggered_pmca,axis=0)/len(struggle_triggered_pmca)"
   ]
  },
  {
   "cell_type": "code",
   "execution_count": 97,
   "metadata": {},
   "outputs": [
    {
     "data": {
      "image/png": "[encoded data removed]",
      "text/plain": [
       "<Figure size 640x480 with 1 Axes>"
      ]
     },
     "metadata": {},
     "output_type": "display_data"
    }
   ],
   "source": [
    "#generate figure\n",
    "plt.figure()\n",
    "time = time_ctrl[0][0:totalWindow]\n",
    "plt.plot(time,mean_ctrl)\n",
    "plt.fill_between(time,mean_ctrl-se_ctrl, mean_ctrl + se_ctrl,alpha = 0.5)\n",
    "\n",
    "plt.plot(time,mean_prazosin)\n",
    "plt.fill_between(time,mean_prazosin-se_prazosin, mean_prazosin + se_prazosin,alpha = 0.5)\n",
    "\n",
    "plt.plot(time,mean_pmca)\n",
    "plt.fill_between(time,mean_pmca-se_pmca, mean_pmca + se_pmca,alpha = 0.5)\n",
    "plt.savefig(r'G:\\My Drive\\adenosine_paper\\adenosine_paper_figures\\Fig2\\revision\\Fig_2E.svg',dpi=300)"
   ]
  },
  {
   "cell_type": "code",
   "execution_count": 94,
   "metadata": {},
   "outputs": [
    {
     "data": {
      "text/plain": [
       "array([1.62154229e-04, 2.01538345e-04, 2.10615004e-04, 9.66086294e-05,\n",
       "       1.65436335e-04, 1.64092991e-04, 1.40222686e-04, 1.82783569e-04,\n",
       "       1.86759893e-04, 1.17845581e-04, 6.59591911e-04, 4.99239261e-04,\n",
       "       6.56680004e-04, 5.18634705e-04, 5.59392262e-04, 4.12301447e-04,\n",
       "       5.30274953e-04, 4.01344547e-04, 4.17554372e-04, 4.33399092e-04,\n",
       "       3.56659702e-04, 1.97410422e-04, 2.60638014e-04, 4.26689866e-04,\n",
       "       2.59687149e-04, 2.95082666e-04, 3.36448947e-04, 1.89709768e-04,\n",
       "       3.33814880e-04, 4.28793437e-04, 3.54954203e-04, 3.07952075e-04,\n",
       "       2.68929387e-04, 3.18910292e-04, 3.25571561e-04, 4.27064587e-04,\n",
       "       3.76093342e-04, 3.98466046e-04, 2.83371994e-04, 3.47890969e-04,\n",
       "       3.53001105e-04, 2.82158299e-04, 3.96641548e-04, 4.42089153e-04,\n",
       "       2.35726067e-04, 3.56416789e-04, 4.86518928e-04, 4.16562566e-04,\n",
       "       3.97735156e-04, 3.60478234e-04, 5.37646883e-04, 4.54869216e-04,\n",
       "       3.27762421e-04, 4.11139558e-04, 4.37433995e-04, 5.59473516e-04,\n",
       "       4.11469426e-04, 5.30616543e-04, 4.93327641e-04, 5.73077924e-04,\n",
       "       5.11740971e-04, 4.37993908e-04, 7.00373722e-04, 5.19269411e-04,\n",
       "       5.07094738e-04, 5.62771792e-04, 3.96878953e-04, 4.61941873e-04,\n",
       "       4.40384193e-04, 4.82816561e-04, 6.23294997e-04, 5.42291079e-04,\n",
       "       7.25072692e-04, 7.27873089e-04, 5.92035859e-04])"
      ]
     },
     "execution_count": 94,
     "metadata": {},
     "output_type": "execute_result"
    }
   ],
   "source": [
    "se_prazosin"
   ]
  },
  {
   "cell_type": "code",
   "execution_count": null,
   "metadata": {},
   "outputs": [],
   "source": []
  }
 ],
 "metadata": {
  "kernelspec": {
   "display_name": "Python 3 (ipykernel)",
   "language": "python",
   "name": "python3"
  },
  "language_info": {
   "codemirror_mode": {
    "name": "ipython",
    "version": 3
   },
   "file_extension": ".py",
   "mimetype": "text/x-python",
   "name": "python",
   "nbconvert_exporter": "python",
   "pygments_lexer": "ipython3",
   "version": "3.11.7"
  }
 },
 "nbformat": 4,
 "nbformat_minor": 4
}
